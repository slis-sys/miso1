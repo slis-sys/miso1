{
 "cells": [
  {
   "cell_type": "code",
   "execution_count": 63,
   "id": "faf1d47f-6e31-46a2-8883-205f9f9ac121",
   "metadata": {
    "tags": []
   },
   "outputs": [],
   "source": [
    "from scipy.io import loadmat, savemat\n",
    "import os\n",
    "import numpy as np\n",
    "from tqdm import tqdm\n",
    "import pandas as pd"
   ]
  },
  {
   "cell_type": "code",
   "execution_count": 64,
   "id": "2a705f02-71a0-44d5-afcb-0970246092ab",
   "metadata": {
    "tags": []
   },
   "outputs": [],
   "source": [
    "rows=['p01','p02','p03','p04','p05','p06','p07','p08','p09','p10','p11','p12','p13','p14','p15','p16','p17','p18','p19','p20','p21','p22','p23','p24','p25','p26','p27','p28','p29','p30','p31','p32','p33','p34','p35','p36','p37','p38','p39','p40']"
   ]
  },
  {
   "cell_type": "code",
   "execution_count": 65,
   "id": "396bbf4a-9975-4d85-925a-6b6c665a8479",
   "metadata": {
    "tags": []
   },
   "outputs": [
    {
     "name": "stderr",
     "output_type": "stream",
     "text": [
      "100%|██████████████████████████████████████████████████████████████████████████████████| 82/82 [00:01<00:00, 44.55it/s]\n"
     ]
    }
   ],
   "source": [
    "path = './flow/Stat_20240531_BL_180_10_01'\n",
    "mat_files = [f for f in os.listdir(path) if f.endswith('.mat')]\n",
    "means = np.zeros((40,21))\n",
    "rio = np.zeros((3,21))\n",
    "i,l=0,0\n",
    "\n",
    "for f in tqdm((mat_files)):   \n",
    "    if (0.0<= float(f[-10:-4]) <= 180) and f.startswith('Stat_20240531_BL_180_10_01_cDAQ'):\n",
    "        filepath = path + '/' +f\n",
    "        f1 = loadmat(filepath)\n",
    "        for j,(keys,values) in enumerate(f1.items()):\n",
    "            if keys.startswith('cDAQ') and j<40:\n",
    "                means[j,i]=np.mean(values)\n",
    "        i+=1\n",
    "    \n",
    "    if (0.0<= float(f[-10:-4]) <= 180) and f.startswith('Stat_20240531_BL_180_10_01_RIO'):\n",
    "        filepath = path + '/' +f\n",
    "        f1 = loadmat(filepath)\n",
    "        k=0\n",
    "        for keys,values in f1.items():\n",
    "            if keys.startswith('AI00'):\n",
    "                rio[k,l]=np.mean(values)\n",
    "                k+=1\n",
    "            if keys.startswith('Dens') or keys.startswith('Sam'):\n",
    "                rio[k,l]=float(values)\n",
    "                k+=1\n",
    "                if k==3:\n",
    "                    break\n",
    "        l+=1   "
   ]
  },
  {
   "cell_type": "code",
   "execution_count": 66,
   "id": "4efae07e-e3c2-4d5a-8887-ea2209894eb8",
   "metadata": {
    "tags": []
   },
   "outputs": [],
   "source": [
    "no_flow = np.empty((40,1))\n",
    "f1 = loadmat('./noflow/Stat_20240531_BL_180_10_01/Stat_20240529_BL_180_20_01_cDAQ_Group00000_Group00000_No_Movement.mat')\n",
    "for j,(keys,values) in enumerate(f1.items()):\n",
    "    if keys.startswith('cDAQ') and j<40:\n",
    "        no_flow[j,0]=np.mean(values)"
   ]
  },
  {
   "cell_type": "code",
   "execution_count": 67,
   "id": "0f39612d-c856-4b34-9448-d943b771de16",
   "metadata": {
    "tags": []
   },
   "outputs": [],
   "source": [
    "means1=means-no_flow\n",
    "\n",
    "means_df = pd.DataFrame(means1,index=rows,columns=['AoA_' + str(i) for i in np.arange(-10, 11, 1)])\n",
    "\n",
    "means_df.to_csv('means_df.csv')"
   ]
  },
  {
   "cell_type": "code",
   "execution_count": 68,
   "id": "dca237ee-dac6-4a63-adba-071826a949a2",
   "metadata": {
    "tags": []
   },
   "outputs": [
    {
     "name": "stderr",
     "output_type": "stream",
     "text": [
      "100%|████████████████████████████████████████████████████████████████████████████████████| 6/6 [00:00<00:00, 50.00it/s]\n",
      "100%|████████████████████████████████████████████████████████████████████████████████████| 6/6 [00:00<00:00, 54.55it/s]\n"
     ]
    }
   ],
   "source": [
    "# Kalibrierung!!!\n",
    "path1 = './Kalibration/20240326/20240326_CalNeg/'\n",
    "path2 = './Kalibration/20240326/20240326_CalPos//'\n",
    "cals = np.zeros((42,12))\n",
    "\n",
    "def cal(index,path,mat):\n",
    "    mat_files = [f for f in os.listdir(path) if f.endswith('.mat')]\n",
    "\n",
    "    for f in tqdm((mat_files)):   \n",
    "        filepath = path + '/' +f\n",
    "        f1 = loadmat(filepath)\n",
    "        for j,(keys,values) in enumerate(f1.items()):\n",
    "            if keys=='x':\n",
    "\n",
    "                break\n",
    "            mat[j,index] = np.mean(values)\n",
    "        index += 1\n",
    "    \n",
    "    return index,mat\n",
    "i,cals=cal(0,path1,cals)\n",
    "i,cals=cal(i,path2,cals)"
   ]
  },
  {
   "cell_type": "code",
   "execution_count": 69,
   "id": "1346a68a-2d72-4ead-9f8f-16d220c4f8c5",
   "metadata": {},
   "outputs": [],
   "source": [
    "ind = ['p' + str(i) for i in np.arange(1,41,1)] + ['bara','cal84']\n",
    "means_df = pd.DataFrame(cals,index=ind,columns=['X = ' + str(i) for i in list(np.arange(0,-1001,-200))+list(np.arange(0,1001,200))])\n",
    "means_df.to_csv('cals_df.csv')"
   ]
  },
  {
   "cell_type": "code",
   "execution_count": null,
   "id": "b8a8b718-c7b0-4dd0-a3f5-cb03b740b39b",
   "metadata": {},
   "outputs": [],
   "source": []
  }
 ],
 "metadata": {
  "kernelspec": {
   "display_name": "Python 3 (ipykernel)",
   "language": "python",
   "name": "python3"
  },
  "language_info": {
   "codemirror_mode": {
    "name": "ipython",
    "version": 3
   },
   "file_extension": ".py",
   "mimetype": "text/x-python",
   "name": "python",
   "nbconvert_exporter": "python",
   "pygments_lexer": "ipython3",
   "version": "3.10.9"
  }
 },
 "nbformat": 4,
 "nbformat_minor": 5
}
